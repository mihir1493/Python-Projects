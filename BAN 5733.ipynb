{
 "cells": [
  {
   "cell_type": "code",
   "execution_count": 81,
   "id": "4eea8ff1",
   "metadata": {},
   "outputs": [],
   "source": [
    "import matplotlib as plt\n",
    "import seaborn as sns\n",
    "import pandas as pd\n",
    "import numpy as np\n",
    "%matplotlib inline\n",
    "from matplotlib import figure\n",
    "from matplotlib import *\n",
    "import sys\n",
    "import pylab as pl"
   ]
  },
  {
   "cell_type": "code",
   "execution_count": 82,
   "id": "e7d96535",
   "metadata": {},
   "outputs": [],
   "source": [
    "df = pd.read_excel('Telecom_Fall2021.xlsx')"
   ]
  },
  {
   "cell_type": "code",
   "execution_count": 83,
   "id": "3d6bd914",
   "metadata": {},
   "outputs": [
    {
     "data": {
      "text/html": [
       "<div>\n",
       "<style scoped>\n",
       "    .dataframe tbody tr th:only-of-type {\n",
       "        vertical-align: middle;\n",
       "    }\n",
       "\n",
       "    .dataframe tbody tr th {\n",
       "        vertical-align: top;\n",
       "    }\n",
       "\n",
       "    .dataframe thead th {\n",
       "        text-align: right;\n",
       "    }\n",
       "</style>\n",
       "<table border=\"1\" class=\"dataframe\">\n",
       "  <thead>\n",
       "    <tr style=\"text-align: right;\">\n",
       "      <th></th>\n",
       "      <th>Serial_Number</th>\n",
       "      <th>AGE</th>\n",
       "      <th>GENDER</th>\n",
       "      <th>MARITAL_STATUS</th>\n",
       "      <th>NATIONALITY</th>\n",
       "      <th>LINE_TENURE</th>\n",
       "      <th>CUSTOMER_CLASS</th>\n",
       "      <th>SUBPLAN</th>\n",
       "      <th>CONTRACT_FLAG</th>\n",
       "      <th>PAY_METD</th>\n",
       "      <th>HS_AGE</th>\n",
       "      <th>TOP1_INT_CD</th>\n",
       "      <th>TOP2_INT_CD</th>\n",
       "      <th>TOP3_INT_CD</th>\n",
       "      <th>CUSTOMER_TYPE</th>\n",
       "      <th>ID_CHANGE_FLAG</th>\n",
       "    </tr>\n",
       "  </thead>\n",
       "  <tbody>\n",
       "    <tr>\n",
       "      <th>0</th>\n",
       "      <td>1</td>\n",
       "      <td>26.0</td>\n",
       "      <td>F</td>\n",
       "      <td>M</td>\n",
       "      <td>702.0</td>\n",
       "      <td>575</td>\n",
       "      <td>3</td>\n",
       "      <td>2136</td>\n",
       "      <td>1.0</td>\n",
       "      <td>cs</td>\n",
       "      <td>18</td>\n",
       "      <td>105</td>\n",
       "      <td>NONE</td>\n",
       "      <td>NONE</td>\n",
       "      <td>4G</td>\n",
       "      <td>0</td>\n",
       "    </tr>\n",
       "    <tr>\n",
       "      <th>1</th>\n",
       "      <td>10</td>\n",
       "      <td>46.0</td>\n",
       "      <td>F</td>\n",
       "      <td>M</td>\n",
       "      <td>702.0</td>\n",
       "      <td>572</td>\n",
       "      <td>3</td>\n",
       "      <td>2242</td>\n",
       "      <td>1.0</td>\n",
       "      <td>co</td>\n",
       "      <td>1</td>\n",
       "      <td>NONE</td>\n",
       "      <td>NONE</td>\n",
       "      <td>NONE</td>\n",
       "      <td>4G</td>\n",
       "      <td>0</td>\n",
       "    </tr>\n",
       "    <tr>\n",
       "      <th>2</th>\n",
       "      <td>100</td>\n",
       "      <td>26.0</td>\n",
       "      <td>M</td>\n",
       "      <td>S</td>\n",
       "      <td>702.0</td>\n",
       "      <td>1252</td>\n",
       "      <td>3</td>\n",
       "      <td>2107</td>\n",
       "      <td>1.0</td>\n",
       "      <td>cs</td>\n",
       "      <td>0</td>\n",
       "      <td>NONE</td>\n",
       "      <td>NONE</td>\n",
       "      <td>NONE</td>\n",
       "      <td>4G</td>\n",
       "      <td>0</td>\n",
       "    </tr>\n",
       "    <tr>\n",
       "      <th>3</th>\n",
       "      <td>1000</td>\n",
       "      <td>38.0</td>\n",
       "      <td>M</td>\n",
       "      <td>S</td>\n",
       "      <td>702.0</td>\n",
       "      <td>2073</td>\n",
       "      <td>3</td>\n",
       "      <td>2102</td>\n",
       "      <td>1.0</td>\n",
       "      <td>cs</td>\n",
       "      <td>5</td>\n",
       "      <td>104</td>\n",
       "      <td>105</td>\n",
       "      <td>103</td>\n",
       "      <td>4G</td>\n",
       "      <td>0</td>\n",
       "    </tr>\n",
       "    <tr>\n",
       "      <th>4</th>\n",
       "      <td>1001</td>\n",
       "      <td>36.0</td>\n",
       "      <td>M</td>\n",
       "      <td>S</td>\n",
       "      <td>702.0</td>\n",
       "      <td>3131</td>\n",
       "      <td>3</td>\n",
       "      <td>2101</td>\n",
       "      <td>1.0</td>\n",
       "      <td>co</td>\n",
       "      <td>3</td>\n",
       "      <td>NONE</td>\n",
       "      <td>NONE</td>\n",
       "      <td>NONE</td>\n",
       "      <td>4G</td>\n",
       "      <td>0</td>\n",
       "    </tr>\n",
       "    <tr>\n",
       "      <th>5</th>\n",
       "      <td>10014</td>\n",
       "      <td>50.0</td>\n",
       "      <td>M</td>\n",
       "      <td>M</td>\n",
       "      <td>702.0</td>\n",
       "      <td>1402</td>\n",
       "      <td>3</td>\n",
       "      <td>2105</td>\n",
       "      <td>0.0</td>\n",
       "      <td>cs</td>\n",
       "      <td>33</td>\n",
       "      <td>NONE</td>\n",
       "      <td>NONE</td>\n",
       "      <td>NONE</td>\n",
       "      <td>3G</td>\n",
       "      <td>0</td>\n",
       "    </tr>\n",
       "    <tr>\n",
       "      <th>6</th>\n",
       "      <td>10016</td>\n",
       "      <td>40.0</td>\n",
       "      <td>F</td>\n",
       "      <td>S</td>\n",
       "      <td>702.0</td>\n",
       "      <td>2985</td>\n",
       "      <td>3</td>\n",
       "      <td>2103</td>\n",
       "      <td>1.0</td>\n",
       "      <td>cs</td>\n",
       "      <td>14</td>\n",
       "      <td>NONE</td>\n",
       "      <td>NONE</td>\n",
       "      <td>NONE</td>\n",
       "      <td>3G</td>\n",
       "      <td>0</td>\n",
       "    </tr>\n",
       "    <tr>\n",
       "      <th>7</th>\n",
       "      <td>10018</td>\n",
       "      <td>46.0</td>\n",
       "      <td>M</td>\n",
       "      <td>S</td>\n",
       "      <td>702.0</td>\n",
       "      <td>764</td>\n",
       "      <td>3</td>\n",
       "      <td>2135</td>\n",
       "      <td>1.0</td>\n",
       "      <td>cs</td>\n",
       "      <td>0</td>\n",
       "      <td>NONE</td>\n",
       "      <td>NONE</td>\n",
       "      <td>NONE</td>\n",
       "      <td>3G</td>\n",
       "      <td>0</td>\n",
       "    </tr>\n",
       "    <tr>\n",
       "      <th>8</th>\n",
       "      <td>1002</td>\n",
       "      <td>39.0</td>\n",
       "      <td>F</td>\n",
       "      <td>S</td>\n",
       "      <td>702.0</td>\n",
       "      <td>2665</td>\n",
       "      <td>3</td>\n",
       "      <td>2243</td>\n",
       "      <td>1.0</td>\n",
       "      <td>co</td>\n",
       "      <td>0</td>\n",
       "      <td>NONE</td>\n",
       "      <td>NONE</td>\n",
       "      <td>NONE</td>\n",
       "      <td>4G</td>\n",
       "      <td>0</td>\n",
       "    </tr>\n",
       "    <tr>\n",
       "      <th>9</th>\n",
       "      <td>10022</td>\n",
       "      <td>41.0</td>\n",
       "      <td>F</td>\n",
       "      <td>M</td>\n",
       "      <td>702.0</td>\n",
       "      <td>1129</td>\n",
       "      <td>3</td>\n",
       "      <td>2241</td>\n",
       "      <td>1.0</td>\n",
       "      <td>cs</td>\n",
       "      <td>10</td>\n",
       "      <td>NONE</td>\n",
       "      <td>NONE</td>\n",
       "      <td>NONE</td>\n",
       "      <td>3G</td>\n",
       "      <td>0</td>\n",
       "    </tr>\n",
       "  </tbody>\n",
       "</table>\n",
       "</div>"
      ],
      "text/plain": [
       "   Serial_Number   AGE GENDER MARITAL_STATUS  NATIONALITY  LINE_TENURE  \\\n",
       "0              1  26.0      F              M        702.0          575   \n",
       "1             10  46.0      F              M        702.0          572   \n",
       "2            100  26.0      M              S        702.0         1252   \n",
       "3           1000  38.0      M              S        702.0         2073   \n",
       "4           1001  36.0      M              S        702.0         3131   \n",
       "5          10014  50.0      M              M        702.0         1402   \n",
       "6          10016  40.0      F              S        702.0         2985   \n",
       "7          10018  46.0      M              S        702.0          764   \n",
       "8           1002  39.0      F              S        702.0         2665   \n",
       "9          10022  41.0      F              M        702.0         1129   \n",
       "\n",
       "   CUSTOMER_CLASS  SUBPLAN  CONTRACT_FLAG PAY_METD  HS_AGE TOP1_INT_CD  \\\n",
       "0               3     2136            1.0       cs      18         105   \n",
       "1               3     2242            1.0       co       1        NONE   \n",
       "2               3     2107            1.0       cs       0        NONE   \n",
       "3               3     2102            1.0       cs       5         104   \n",
       "4               3     2101            1.0       co       3        NONE   \n",
       "5               3     2105            0.0       cs      33        NONE   \n",
       "6               3     2103            1.0       cs      14        NONE   \n",
       "7               3     2135            1.0       cs       0        NONE   \n",
       "8               3     2243            1.0       co       0        NONE   \n",
       "9               3     2241            1.0       cs      10        NONE   \n",
       "\n",
       "  TOP2_INT_CD TOP3_INT_CD CUSTOMER_TYPE  ID_CHANGE_FLAG  \n",
       "0        NONE        NONE            4G               0  \n",
       "1        NONE        NONE            4G               0  \n",
       "2        NONE        NONE            4G               0  \n",
       "3         105         103            4G               0  \n",
       "4        NONE        NONE            4G               0  \n",
       "5        NONE        NONE            3G               0  \n",
       "6        NONE        NONE            3G               0  \n",
       "7        NONE        NONE            3G               0  \n",
       "8        NONE        NONE            4G               0  \n",
       "9        NONE        NONE            3G               0  "
      ]
     },
     "execution_count": 83,
     "metadata": {},
     "output_type": "execute_result"
    }
   ],
   "source": [
    "df2.head(10)"
   ]
  },
  {
   "cell_type": "code",
   "execution_count": 84,
   "id": "4dec4204",
   "metadata": {},
   "outputs": [
    {
     "data": {
      "text/plain": [
       "Serial_Number        0\n",
       "AGE                192\n",
       "GENDER               0\n",
       "MARITAL_STATUS     388\n",
       "NATIONALITY          5\n",
       "OCCUP_CD          3804\n",
       "LINE_TENURE          0\n",
       "CUSTOMER_CLASS       0\n",
       "SUBPLAN              0\n",
       "CONTRACT_FLAG      268\n",
       "PAY_METD           313\n",
       "HS_AGE               0\n",
       "TOP1_INT_CD          0\n",
       "TOP2_INT_CD          0\n",
       "TOP3_INT_CD          0\n",
       "CUSTOMER_TYPE        0\n",
       "ID_CHANGE_FLAG       0\n",
       "dtype: int64"
      ]
     },
     "execution_count": 84,
     "metadata": {},
     "output_type": "execute_result"
    }
   ],
   "source": [
    "df.isna().sum()"
   ]
  },
  {
   "cell_type": "code",
   "execution_count": 85,
   "id": "ebd36754",
   "metadata": {},
   "outputs": [
    {
     "name": "stdout",
     "output_type": "stream",
     "text": [
      "<class 'pandas.core.frame.DataFrame'>\n",
      "RangeIndex: 6000 entries, 0 to 5999\n",
      "Data columns (total 17 columns):\n",
      " #   Column          Non-Null Count  Dtype  \n",
      "---  ------          --------------  -----  \n",
      " 0   Serial_Number   6000 non-null   int64  \n",
      " 1   AGE             5808 non-null   float64\n",
      " 2   GENDER          6000 non-null   object \n",
      " 3   MARITAL_STATUS  5612 non-null   object \n",
      " 4   NATIONALITY     5995 non-null   float64\n",
      " 5   OCCUP_CD        2196 non-null   object \n",
      " 6   LINE_TENURE     6000 non-null   int64  \n",
      " 7   CUSTOMER_CLASS  6000 non-null   int64  \n",
      " 8   SUBPLAN         6000 non-null   int64  \n",
      " 9   CONTRACT_FLAG   5732 non-null   float64\n",
      " 10  PAY_METD        5687 non-null   object \n",
      " 11  HS_AGE          6000 non-null   int64  \n",
      " 12  TOP1_INT_CD     6000 non-null   object \n",
      " 13  TOP2_INT_CD     6000 non-null   object \n",
      " 14  TOP3_INT_CD     6000 non-null   object \n",
      " 15  CUSTOMER_TYPE   6000 non-null   object \n",
      " 16  ID_CHANGE_FLAG  6000 non-null   int64  \n",
      "dtypes: float64(3), int64(6), object(8)\n",
      "memory usage: 797.0+ KB\n"
     ]
    }
   ],
   "source": [
    "df.info()"
   ]
  },
  {
   "cell_type": "code",
   "execution_count": 200,
   "id": "98b45825",
   "metadata": {},
   "outputs": [
    {
     "data": {
      "text/plain": [
       "<seaborn.axisgrid.FacetGrid at 0x24e256f12b0>"
      ]
     },
     "execution_count": 200,
     "metadata": {},
     "output_type": "execute_result"
    },
    {
     "data": {
      "text/plain": [
       "<Figure size 1000x600 with 0 Axes>"
      ]
     },
     "metadata": {},
     "output_type": "display_data"
    },
    {
     "data": {
      "image/png": "[encoded data removed]",
      "text/plain": [
       "<Figure size 708.375x500 with 1 Axes>"
      ]
     },
     "metadata": {},
     "output_type": "display_data"
    }
   ],
   "source": [
    "pl.figure(figsize=(10,6))\n",
    "sns.displot(\n",
    "    data=df.isna().melt(value_name=\"missing\"),\n",
    "    y=\"variable\",\n",
    "    hue=\"missing\",\n",
    "    multiple=\"fill\",\n",
    "    aspect=1.25\n",
    ")"
   ]
  },
  {
   "cell_type": "code",
   "execution_count": 201,
   "id": "4f3cdfd0",
   "metadata": {},
   "outputs": [
    {
     "data": {
      "text/plain": [
       "<AxesSubplot:>"
      ]
     },
     "execution_count": 201,
     "metadata": {},
     "output_type": "execute_result"
    },
    {
     "data": {
      "image/png": "[encoded data removed]",
      "text/plain": [
       "<Figure size 1000x600 with 2 Axes>"
      ]
     },
     "metadata": {},
     "output_type": "display_data"
    }
   ],
   "source": [
    "pl.figure(figsize=(10,6))\n",
    "sns.heatmap(df.isna().transpose(),\n",
    "            cmap=\"YlGnBu\",\n",
    "            cbar_kws={'label': 'Missing Data'})\n"
   ]
  },
  {
   "cell_type": "code",
   "execution_count": null,
   "id": "c4f91228",
   "metadata": {},
   "outputs": [],
   "source": [
    "df1 = df.drop(['OCCUP_CD'], axis=1)"
   ]
  },
  {
   "cell_type": "code",
   "execution_count": null,
   "id": "a21a1312",
   "metadata": {},
   "outputs": [],
   "source": [
    "df1.isna().sum()"
   ]
  },
  {
   "cell_type": "code",
   "execution_count": null,
   "id": "dd7d3d10",
   "metadata": {},
   "outputs": [],
   "source": [
    "df2 = df1.fillna(df1.mode().iloc[4])"
   ]
  },
  {
   "cell_type": "code",
   "execution_count": null,
   "id": "152dd794",
   "metadata": {},
   "outputs": [],
   "source": [
    "df2.isna().sum()"
   ]
  },
  {
   "cell_type": "code",
   "execution_count": 87,
   "id": "fe66f178",
   "metadata": {},
   "outputs": [],
   "source": [
    "df2['MARITAL_STATUS'].fillna(df2['MARITAL_STATUS'].mode()[0], inplace = True)"
   ]
  },
  {
   "cell_type": "code",
   "execution_count": 88,
   "id": "a444751a",
   "metadata": {},
   "outputs": [
    {
     "data": {
      "text/plain": [
       "MARITAL_STATUS\n",
       "M    2519\n",
       "S    3093\n",
       "dtype: int64"
      ]
     },
     "metadata": {},
     "output_type": "display_data"
    }
   ],
   "source": [
    "# count occurrences a particular column\n",
    "occur = df.groupby(['MARITAL_STATUS']).size()\n",
    " \n",
    "# display occurrences of a particular column\n",
    "display(occur)"
   ]
  },
  {
   "cell_type": "code",
   "execution_count": 89,
   "id": "5135f123",
   "metadata": {},
   "outputs": [
    {
     "data": {
      "text/plain": [
       "PAY_METD\n",
       "cg     250\n",
       "co     517\n",
       "cs    4419\n",
       "cx      59\n",
       "dd     442\n",
       "dtype: int64"
      ]
     },
     "metadata": {},
     "output_type": "display_data"
    }
   ],
   "source": [
    "# count occurrences a particular column\n",
    "occur = df.groupby(['PAY_METD']).size()\n",
    " \n",
    "# display occurrences of a particular column\n",
    "display(occur)"
   ]
  },
  {
   "cell_type": "code",
   "execution_count": 90,
   "id": "b39de100",
   "metadata": {},
   "outputs": [],
   "source": [
    "df2['PAY_METD'].fillna(df2['PAY_METD'].mode()[0], inplace = True)"
   ]
  },
  {
   "cell_type": "code",
   "execution_count": 91,
   "id": "07a5a0dd",
   "metadata": {},
   "outputs": [
    {
     "data": {
      "text/plain": [
       "CONTRACT_FLAG\n",
       "0.0    1070\n",
       "1.0    4930\n",
       "dtype: int64"
      ]
     },
     "metadata": {},
     "output_type": "display_data"
    }
   ],
   "source": [
    "# count occurrences a particular column\n",
    "occur = df2.groupby(['CONTRACT_FLAG']).size()\n",
    " \n",
    "# display occurrences of a particular column\n",
    "display(occur)"
   ]
  },
  {
   "cell_type": "code",
   "execution_count": 92,
   "id": "a48f9290",
   "metadata": {},
   "outputs": [],
   "source": [
    "df2['CONTRACT_FLAG'].fillna(df2['CONTRACT_FLAG'].mode()[0], inplace = True)"
   ]
  },
  {
   "cell_type": "code",
   "execution_count": 93,
   "id": "741f8614",
   "metadata": {},
   "outputs": [],
   "source": [
    "df2['AGE'].fillna(df2['AGE'].mean(), inplace = True)"
   ]
  },
  {
   "cell_type": "code",
   "execution_count": 94,
   "id": "b5c359e9",
   "metadata": {},
   "outputs": [
    {
     "data": {
      "text/plain": [
       "NATIONALITY\n",
       "36.000000        5\n",
       "124.000000       2\n",
       "144.000000       1\n",
       "156.000000      78\n",
       "246.000000       1\n",
       "250.000000       3\n",
       "278.000000       1\n",
       "344.000000       6\n",
       "356.000000      31\n",
       "360.000000      34\n",
       "392.000000      10\n",
       "458.000000     191\n",
       "480.000000       1\n",
       "524.000000       1\n",
       "528.000000       3\n",
       "554.000000       2\n",
       "578.000000       1\n",
       "579.000000      16\n",
       "586.000000       1\n",
       "608.000000      49\n",
       "681.070058       5\n",
       "702.000000    5520\n",
       "704.000000       1\n",
       "756.000000       2\n",
       "764.000000       7\n",
       "826.000000       7\n",
       "840.000000       4\n",
       "901.000000       1\n",
       "980.000000       6\n",
       "982.000000      10\n",
       "dtype: int64"
      ]
     },
     "metadata": {},
     "output_type": "display_data"
    }
   ],
   "source": [
    "# count occurrences a particular column\n",
    "occur = df2.groupby(['NATIONALITY']).size()\n",
    " \n",
    "# display occurrences of a particular column\n",
    "display(occur)"
   ]
  },
  {
   "cell_type": "code",
   "execution_count": 95,
   "id": "68ba0e86",
   "metadata": {},
   "outputs": [],
   "source": [
    "df2['NATIONALITY'].fillna(df2['NATIONALITY'].mean(), inplace = True)"
   ]
  },
  {
   "cell_type": "code",
   "execution_count": 96,
   "id": "5b5a48d2",
   "metadata": {},
   "outputs": [
    {
     "data": {
      "text/plain": [
       "Serial_Number     0\n",
       "AGE               0\n",
       "GENDER            0\n",
       "MARITAL_STATUS    0\n",
       "NATIONALITY       0\n",
       "LINE_TENURE       0\n",
       "CUSTOMER_CLASS    0\n",
       "SUBPLAN           0\n",
       "CONTRACT_FLAG     0\n",
       "PAY_METD          0\n",
       "HS_AGE            0\n",
       "TOP1_INT_CD       0\n",
       "TOP2_INT_CD       0\n",
       "TOP3_INT_CD       0\n",
       "CUSTOMER_TYPE     0\n",
       "ID_CHANGE_FLAG    0\n",
       "dtype: int64"
      ]
     },
     "execution_count": 96,
     "metadata": {},
     "output_type": "execute_result"
    }
   ],
   "source": [
    "df2.isna().sum()"
   ]
  },
  {
   "cell_type": "code",
   "execution_count": 97,
   "id": "276df67b",
   "metadata": {},
   "outputs": [
    {
     "name": "stdout",
     "output_type": "stream",
     "text": [
      "<class 'pandas.core.frame.DataFrame'>\n",
      "RangeIndex: 6000 entries, 0 to 5999\n",
      "Data columns (total 16 columns):\n",
      " #   Column          Non-Null Count  Dtype  \n",
      "---  ------          --------------  -----  \n",
      " 0   Serial_Number   6000 non-null   int64  \n",
      " 1   AGE             6000 non-null   float64\n",
      " 2   GENDER          6000 non-null   object \n",
      " 3   MARITAL_STATUS  6000 non-null   object \n",
      " 4   NATIONALITY     6000 non-null   float64\n",
      " 5   LINE_TENURE     6000 non-null   int64  \n",
      " 6   CUSTOMER_CLASS  6000 non-null   int64  \n",
      " 7   SUBPLAN         6000 non-null   int64  \n",
      " 8   CONTRACT_FLAG   6000 non-null   float64\n",
      " 9   PAY_METD        6000 non-null   object \n",
      " 10  HS_AGE          6000 non-null   int64  \n",
      " 11  TOP1_INT_CD     6000 non-null   object \n",
      " 12  TOP2_INT_CD     6000 non-null   object \n",
      " 13  TOP3_INT_CD     6000 non-null   object \n",
      " 14  CUSTOMER_TYPE   6000 non-null   object \n",
      " 15  ID_CHANGE_FLAG  6000 non-null   int64  \n",
      "dtypes: float64(3), int64(6), object(7)\n",
      "memory usage: 750.1+ KB\n"
     ]
    }
   ],
   "source": [
    "df2.info()"
   ]
  },
  {
   "cell_type": "code",
   "execution_count": 98,
   "id": "5aea5250",
   "metadata": {},
   "outputs": [],
   "source": [
    "df2.to_csv('final_df.csv')"
   ]
  },
  {
   "cell_type": "code",
   "execution_count": 99,
   "id": "1f128f04",
   "metadata": {},
   "outputs": [
    {
     "data": {
      "text/plain": [
       "<Figure size 720x432 with 0 Axes>"
      ]
     },
     "metadata": {},
     "output_type": "display_data"
    },
    {
     "data": {
      "image/png": "[encoded data removed]",
      "text/plain": [
       "<Figure size 510x360 with 1 Axes>"
      ]
     },
     "metadata": {
      "needs_background": "light"
     },
     "output_type": "display_data"
    }
   ],
   "source": [
    "pl.figure(figsize=(10,6))\n",
    "sns.displot(\n",
    "    data=df2.isna().melt(value_name=\"missing\"),\n",
    "    y=\"variable\",\n",
    "    hue=\"missing\",\n",
    "    multiple=\"fill\",\n",
    "    aspect=1.25\n",
    ")\n",
    "pl.savefig(\"visualizing_missing_data_with_barplot_Seaborn_distplot.png\", dpi=100)"
   ]
  },
  {
   "cell_type": "code",
   "execution_count": null,
   "id": "3f817654",
   "metadata": {},
   "outputs": [],
   "source": [
    "#!pip install pandas_profiling\n",
    "#from pandas_profiling import ProfileReport"
   ]
  },
  {
   "cell_type": "code",
   "execution_count": 199,
   "id": "ed324be8",
   "metadata": {},
   "outputs": [
    {
     "data": {
      "application/vnd.jupyter.widget-view+json": {
       "model_id": "54693ad58f9248d59050bd7f8d3764ac",
       "version_major": 2,
       "version_minor": 0
      },
      "text/plain": [
       "Export report to file:   0%|          | 0/1 [00:00<?, ?it/s]"
      ]
     },
     "metadata": {},
     "output_type": "display_data"
    }
   ],
   "source": [
    "#design_report = ProfileReport(df2)\n",
    "#design_report.to_file(output_file='report.html')"
   ]
  },
  {
   "cell_type": "code",
   "execution_count": 101,
   "id": "ccf748e6",
   "metadata": {},
   "outputs": [
    {
     "data": {
      "image/png": "[encoded data removed]",
      "text/plain": [
       "<Figure size 600x400 with 1 Axes>"
      ]
     },
     "metadata": {},
     "output_type": "display_data"
    }
   ],
   "source": [
    "df.hist(column='AGE');"
   ]
  },
  {
   "cell_type": "code",
   "execution_count": 102,
   "id": "795a90b5",
   "metadata": {},
   "outputs": [
    {
     "data": {
      "image/png": "[encoded data removed]",
      "text/plain": [
       "<Figure size 600x400 with 1 Axes>"
      ]
     },
     "metadata": {},
     "output_type": "display_data"
    }
   ],
   "source": [
    "df2.hist(column='AGE');"
   ]
  },
  {
   "cell_type": "code",
   "execution_count": 155,
   "id": "1767ad1c",
   "metadata": {},
   "outputs": [],
   "source": [
    "from sklearn.preprocessing import LabelEncoder#for train test splitting\n",
    "from sklearn.model_selection import train_test_split#for decision tree object\n",
    "from sklearn.tree import DecisionTreeClassifier#for checking testing results\n",
    "from sklearn.metrics import classification_report, confusion_matrix#for visualizing tree \n",
    "from sklearn.tree import plot_tree"
   ]
  },
  {
   "cell_type": "code",
   "execution_count": 176,
   "id": "62b97d79",
   "metadata": {},
   "outputs": [],
   "source": [
    "from sklearn import metrics \n",
    "from sklearn import tree"
   ]
  },
  {
   "cell_type": "code",
   "execution_count": 177,
   "id": "a338322e",
   "metadata": {},
   "outputs": [
    {
     "data": {
      "text/plain": [
       "Index(['Serial_Number', 'AGE', 'GENDER', 'MARITAL_STATUS', 'NATIONALITY',\n",
       "       'LINE_TENURE', 'CUSTOMER_CLASS', 'SUBPLAN', 'CONTRACT_FLAG', 'PAY_METD',\n",
       "       'HS_AGE', 'TOP1_INT_CD', 'TOP2_INT_CD', 'TOP3_INT_CD', 'CUSTOMER_TYPE',\n",
       "       'ID_CHANGE_FLAG'],\n",
       "      dtype='object')"
      ]
     },
     "execution_count": 177,
     "metadata": {},
     "output_type": "execute_result"
    }
   ],
   "source": [
    "df2.columns"
   ]
  },
  {
   "cell_type": "code",
   "execution_count": 178,
   "id": "29b6a20a",
   "metadata": {},
   "outputs": [
    {
     "name": "stdout",
     "output_type": "stream",
     "text": [
      "<class 'pandas.core.frame.DataFrame'>\n",
      "RangeIndex: 6000 entries, 0 to 5999\n",
      "Data columns (total 16 columns):\n",
      " #   Column          Non-Null Count  Dtype  \n",
      "---  ------          --------------  -----  \n",
      " 0   Serial_Number   6000 non-null   int64  \n",
      " 1   AGE             6000 non-null   float64\n",
      " 2   GENDER          6000 non-null   object \n",
      " 3   MARITAL_STATUS  6000 non-null   object \n",
      " 4   NATIONALITY     6000 non-null   float64\n",
      " 5   LINE_TENURE     6000 non-null   int64  \n",
      " 6   CUSTOMER_CLASS  6000 non-null   int64  \n",
      " 7   SUBPLAN         6000 non-null   int64  \n",
      " 8   CONTRACT_FLAG   6000 non-null   float64\n",
      " 9   PAY_METD        6000 non-null   object \n",
      " 10  HS_AGE          6000 non-null   int64  \n",
      " 11  TOP1_INT_CD     6000 non-null   object \n",
      " 12  TOP2_INT_CD     6000 non-null   object \n",
      " 13  TOP3_INT_CD     6000 non-null   object \n",
      " 14  CUSTOMER_TYPE   6000 non-null   object \n",
      " 15  ID_CHANGE_FLAG  6000 non-null   int64  \n",
      "dtypes: float64(3), int64(6), object(7)\n",
      "memory usage: 750.1+ KB\n"
     ]
    }
   ],
   "source": [
    "df2.info()"
   ]
  },
  {
   "cell_type": "code",
   "execution_count": 179,
   "id": "1d7ffa9e",
   "metadata": {},
   "outputs": [],
   "source": [
    "tree1 = DecisionTreeClassifier()"
   ]
  },
  {
   "cell_type": "code",
   "execution_count": 180,
   "id": "95a54230",
   "metadata": {},
   "outputs": [
    {
     "data": {
      "text/html": [
       "<div>\n",
       "<style scoped>\n",
       "    .dataframe tbody tr th:only-of-type {\n",
       "        vertical-align: middle;\n",
       "    }\n",
       "\n",
       "    .dataframe tbody tr th {\n",
       "        vertical-align: top;\n",
       "    }\n",
       "\n",
       "    .dataframe thead th {\n",
       "        text-align: right;\n",
       "    }\n",
       "</style>\n",
       "<table border=\"1\" class=\"dataframe\">\n",
       "  <thead>\n",
       "    <tr style=\"text-align: right;\">\n",
       "      <th></th>\n",
       "      <th>Serial_Number</th>\n",
       "      <th>AGE</th>\n",
       "      <th>GENDER</th>\n",
       "      <th>MARITAL_STATUS</th>\n",
       "      <th>NATIONALITY</th>\n",
       "      <th>OCCUP_CD</th>\n",
       "      <th>LINE_TENURE</th>\n",
       "      <th>CUSTOMER_CLASS</th>\n",
       "      <th>SUBPLAN</th>\n",
       "      <th>CONTRACT_FLAG</th>\n",
       "      <th>PAY_METD</th>\n",
       "      <th>HS_AGE</th>\n",
       "      <th>TOP1_INT_CD</th>\n",
       "      <th>TOP2_INT_CD</th>\n",
       "      <th>TOP3_INT_CD</th>\n",
       "      <th>CUSTOMER_TYPE</th>\n",
       "      <th>ID_CHANGE_FLAG</th>\n",
       "    </tr>\n",
       "  </thead>\n",
       "  <tbody>\n",
       "    <tr>\n",
       "      <th>0</th>\n",
       "      <td>1</td>\n",
       "      <td>26.0</td>\n",
       "      <td>F</td>\n",
       "      <td>M</td>\n",
       "      <td>702.0</td>\n",
       "      <td>NaN</td>\n",
       "      <td>575</td>\n",
       "      <td>3</td>\n",
       "      <td>2136</td>\n",
       "      <td>1.0</td>\n",
       "      <td>cs</td>\n",
       "      <td>18</td>\n",
       "      <td>105</td>\n",
       "      <td>NONE</td>\n",
       "      <td>NONE</td>\n",
       "      <td>4G</td>\n",
       "      <td>0</td>\n",
       "    </tr>\n",
       "    <tr>\n",
       "      <th>1</th>\n",
       "      <td>10</td>\n",
       "      <td>46.0</td>\n",
       "      <td>F</td>\n",
       "      <td>M</td>\n",
       "      <td>702.0</td>\n",
       "      <td>OTH</td>\n",
       "      <td>572</td>\n",
       "      <td>3</td>\n",
       "      <td>2242</td>\n",
       "      <td>1.0</td>\n",
       "      <td>co</td>\n",
       "      <td>1</td>\n",
       "      <td>NONE</td>\n",
       "      <td>NONE</td>\n",
       "      <td>NONE</td>\n",
       "      <td>4G</td>\n",
       "      <td>0</td>\n",
       "    </tr>\n",
       "  </tbody>\n",
       "</table>\n",
       "</div>"
      ],
      "text/plain": [
       "   Serial_Number   AGE GENDER MARITAL_STATUS  NATIONALITY OCCUP_CD  \\\n",
       "0              1  26.0      F              M        702.0      NaN   \n",
       "1             10  46.0      F              M        702.0      OTH   \n",
       "\n",
       "   LINE_TENURE  CUSTOMER_CLASS  SUBPLAN  CONTRACT_FLAG PAY_METD  HS_AGE  \\\n",
       "0          575               3     2136            1.0       cs      18   \n",
       "1          572               3     2242            1.0       co       1   \n",
       "\n",
       "  TOP1_INT_CD TOP2_INT_CD TOP3_INT_CD CUSTOMER_TYPE  ID_CHANGE_FLAG  \n",
       "0         105        NONE        NONE            4G               0  \n",
       "1        NONE        NONE        NONE            4G               0  "
      ]
     },
     "execution_count": 180,
     "metadata": {},
     "output_type": "execute_result"
    }
   ],
   "source": [
    "df.head(2)"
   ]
  },
  {
   "cell_type": "code",
   "execution_count": 181,
   "id": "fcb6d175",
   "metadata": {},
   "outputs": [
    {
     "data": {
      "text/html": [
       "<div>\n",
       "<style scoped>\n",
       "    .dataframe tbody tr th:only-of-type {\n",
       "        vertical-align: middle;\n",
       "    }\n",
       "\n",
       "    .dataframe tbody tr th {\n",
       "        vertical-align: top;\n",
       "    }\n",
       "\n",
       "    .dataframe thead th {\n",
       "        text-align: right;\n",
       "    }\n",
       "</style>\n",
       "<table border=\"1\" class=\"dataframe\">\n",
       "  <thead>\n",
       "    <tr style=\"text-align: right;\">\n",
       "      <th></th>\n",
       "      <th>Serial_Number</th>\n",
       "      <th>AGE</th>\n",
       "      <th>GENDER</th>\n",
       "      <th>MARITAL_STATUS</th>\n",
       "      <th>NATIONALITY</th>\n",
       "      <th>LINE_TENURE</th>\n",
       "      <th>CUSTOMER_CLASS</th>\n",
       "      <th>SUBPLAN</th>\n",
       "      <th>CONTRACT_FLAG</th>\n",
       "      <th>PAY_METD</th>\n",
       "      <th>HS_AGE</th>\n",
       "      <th>TOP1_INT_CD</th>\n",
       "      <th>TOP2_INT_CD</th>\n",
       "      <th>TOP3_INT_CD</th>\n",
       "      <th>CUSTOMER_TYPE</th>\n",
       "      <th>ID_CHANGE_FLAG</th>\n",
       "    </tr>\n",
       "  </thead>\n",
       "  <tbody>\n",
       "    <tr>\n",
       "      <th>0</th>\n",
       "      <td>1</td>\n",
       "      <td>26.0</td>\n",
       "      <td>F</td>\n",
       "      <td>M</td>\n",
       "      <td>702.0</td>\n",
       "      <td>575</td>\n",
       "      <td>3</td>\n",
       "      <td>2136</td>\n",
       "      <td>1.0</td>\n",
       "      <td>cs</td>\n",
       "      <td>18</td>\n",
       "      <td>105</td>\n",
       "      <td>NONE</td>\n",
       "      <td>NONE</td>\n",
       "      <td>4G</td>\n",
       "      <td>0</td>\n",
       "    </tr>\n",
       "    <tr>\n",
       "      <th>1</th>\n",
       "      <td>10</td>\n",
       "      <td>46.0</td>\n",
       "      <td>F</td>\n",
       "      <td>M</td>\n",
       "      <td>702.0</td>\n",
       "      <td>572</td>\n",
       "      <td>3</td>\n",
       "      <td>2242</td>\n",
       "      <td>1.0</td>\n",
       "      <td>co</td>\n",
       "      <td>1</td>\n",
       "      <td>NONE</td>\n",
       "      <td>NONE</td>\n",
       "      <td>NONE</td>\n",
       "      <td>4G</td>\n",
       "      <td>0</td>\n",
       "    </tr>\n",
       "    <tr>\n",
       "      <th>2</th>\n",
       "      <td>100</td>\n",
       "      <td>26.0</td>\n",
       "      <td>M</td>\n",
       "      <td>S</td>\n",
       "      <td>702.0</td>\n",
       "      <td>1252</td>\n",
       "      <td>3</td>\n",
       "      <td>2107</td>\n",
       "      <td>1.0</td>\n",
       "      <td>cs</td>\n",
       "      <td>0</td>\n",
       "      <td>NONE</td>\n",
       "      <td>NONE</td>\n",
       "      <td>NONE</td>\n",
       "      <td>4G</td>\n",
       "      <td>0</td>\n",
       "    </tr>\n",
       "    <tr>\n",
       "      <th>3</th>\n",
       "      <td>1000</td>\n",
       "      <td>38.0</td>\n",
       "      <td>M</td>\n",
       "      <td>S</td>\n",
       "      <td>702.0</td>\n",
       "      <td>2073</td>\n",
       "      <td>3</td>\n",
       "      <td>2102</td>\n",
       "      <td>1.0</td>\n",
       "      <td>cs</td>\n",
       "      <td>5</td>\n",
       "      <td>104</td>\n",
       "      <td>105</td>\n",
       "      <td>103</td>\n",
       "      <td>4G</td>\n",
       "      <td>0</td>\n",
       "    </tr>\n",
       "    <tr>\n",
       "      <th>4</th>\n",
       "      <td>1001</td>\n",
       "      <td>36.0</td>\n",
       "      <td>M</td>\n",
       "      <td>S</td>\n",
       "      <td>702.0</td>\n",
       "      <td>3131</td>\n",
       "      <td>3</td>\n",
       "      <td>2101</td>\n",
       "      <td>1.0</td>\n",
       "      <td>co</td>\n",
       "      <td>3</td>\n",
       "      <td>NONE</td>\n",
       "      <td>NONE</td>\n",
       "      <td>NONE</td>\n",
       "      <td>4G</td>\n",
       "      <td>0</td>\n",
       "    </tr>\n",
       "  </tbody>\n",
       "</table>\n",
       "</div>"
      ],
      "text/plain": [
       "   Serial_Number   AGE GENDER MARITAL_STATUS  NATIONALITY  LINE_TENURE  \\\n",
       "0              1  26.0      F              M        702.0          575   \n",
       "1             10  46.0      F              M        702.0          572   \n",
       "2            100  26.0      M              S        702.0         1252   \n",
       "3           1000  38.0      M              S        702.0         2073   \n",
       "4           1001  36.0      M              S        702.0         3131   \n",
       "\n",
       "   CUSTOMER_CLASS  SUBPLAN  CONTRACT_FLAG PAY_METD  HS_AGE TOP1_INT_CD  \\\n",
       "0               3     2136            1.0       cs      18         105   \n",
       "1               3     2242            1.0       co       1        NONE   \n",
       "2               3     2107            1.0       cs       0        NONE   \n",
       "3               3     2102            1.0       cs       5         104   \n",
       "4               3     2101            1.0       co       3        NONE   \n",
       "\n",
       "  TOP2_INT_CD TOP3_INT_CD CUSTOMER_TYPE  ID_CHANGE_FLAG  \n",
       "0        NONE        NONE            4G               0  \n",
       "1        NONE        NONE            4G               0  \n",
       "2        NONE        NONE            4G               0  \n",
       "3         105         103            4G               0  \n",
       "4        NONE        NONE            4G               0  "
      ]
     },
     "execution_count": 181,
     "metadata": {},
     "output_type": "execute_result"
    }
   ],
   "source": [
    "df2.head(5)"
   ]
  },
  {
   "cell_type": "code",
   "execution_count": 182,
   "id": "f54fd299",
   "metadata": {},
   "outputs": [],
   "source": [
    "one_hot_data = pd.get_dummies(df2[['GENDER', 'MARITAL_STATUS','PAY_METD']])"
   ]
  },
  {
   "cell_type": "code",
   "execution_count": 183,
   "id": "4d06350e",
   "metadata": {},
   "outputs": [
    {
     "data": {
      "text/plain": [
       "(6000, 9)"
      ]
     },
     "execution_count": 183,
     "metadata": {},
     "output_type": "execute_result"
    }
   ],
   "source": [
    "one_hot_data.shape"
   ]
  },
  {
   "cell_type": "code",
   "execution_count": 184,
   "id": "c23441aa",
   "metadata": {},
   "outputs": [],
   "source": [
    "AGE = df2[\"AGE\"]\n",
    "one_hot_data = one_hot_data.join(AGE)\n",
    "\n",
    "HS_AGE = df2[\"HS_AGE\"]\n",
    "one_hot_data = one_hot_data.join(HS_AGE)\n",
    "\n",
    "NATIONALITY = df2[\"NATIONALITY\"]\n",
    "one_hot_data = one_hot_data.join(NATIONALITY)\n",
    "\n",
    "LINE_TENURE = df2[\"LINE_TENURE\"]\n",
    "one_hot_data = one_hot_data.join(LINE_TENURE)\n",
    "\n",
    "SUBPLAN = df2[\"SUBPLAN\"]\n",
    "one_hot_data = one_hot_data.join(SUBPLAN)"
   ]
  },
  {
   "cell_type": "code",
   "execution_count": 185,
   "id": "1f6d12bb",
   "metadata": {},
   "outputs": [
    {
     "data": {
      "text/plain": [
       "DecisionTreeClassifier()"
      ]
     },
     "execution_count": 185,
     "metadata": {},
     "output_type": "execute_result"
    }
   ],
   "source": [
    "tree1.fit(one_hot_data, df2['CUSTOMER_TYPE'])"
   ]
  },
  {
   "cell_type": "code",
   "execution_count": 186,
   "id": "9f689df4",
   "metadata": {},
   "outputs": [
    {
     "data": {
      "text/plain": [
       "Index(['GENDER_F', 'GENDER_M', 'MARITAL_STATUS_M', 'MARITAL_STATUS_S',\n",
       "       'PAY_METD_cg', 'PAY_METD_co', 'PAY_METD_cs', 'PAY_METD_cx',\n",
       "       'PAY_METD_dd', 'AGE', 'HS_AGE', 'NATIONALITY', 'LINE_TENURE',\n",
       "       'SUBPLAN'],\n",
       "      dtype='object')"
      ]
     },
     "execution_count": 186,
     "metadata": {},
     "output_type": "execute_result"
    }
   ],
   "source": [
    "one_hot_data.columns"
   ]
  },
  {
   "cell_type": "code",
   "execution_count": 187,
   "id": "6e1112e2",
   "metadata": {},
   "outputs": [],
   "source": [
    "X = one_hot_data\n",
    "y = df2['CUSTOMER_TYPE']"
   ]
  },
  {
   "cell_type": "code",
   "execution_count": 188,
   "id": "c7e15603",
   "metadata": {},
   "outputs": [],
   "source": [
    "# Split dataset into training set and test set\n",
    "X_train, X_test, y_train, y_test = train_test_split(X, y, test_size=0.3, random_state=1) "
   ]
  },
  {
   "cell_type": "code",
   "execution_count": 189,
   "id": "e9b44874",
   "metadata": {},
   "outputs": [],
   "source": [
    "tree1 = tree1.fit(X_train, y_train)\n",
    "y_pred = tree1.predict(X_test)"
   ]
  },
  {
   "cell_type": "code",
   "execution_count": 190,
   "id": "4d7e3150",
   "metadata": {},
   "outputs": [
    {
     "name": "stdout",
     "output_type": "stream",
     "text": [
      "Accuracy: 0.6438888888888888\n"
     ]
    }
   ],
   "source": [
    "print(\"Accuracy:\",metrics.accuracy_score(y_test, y_pred))"
   ]
  },
  {
   "cell_type": "code",
   "execution_count": 191,
   "id": "afb4714b",
   "metadata": {},
   "outputs": [
    {
     "data": {
      "text/plain": [
       "array([[566, 335],\n",
       "       [306, 593]], dtype=int64)"
      ]
     },
     "execution_count": 191,
     "metadata": {},
     "output_type": "execute_result"
    }
   ],
   "source": [
    "cm = confusion_matrix(y_test, y_pred)\n",
    "cm"
   ]
  },
  {
   "cell_type": "code",
   "execution_count": null,
   "id": "8b321d3f",
   "metadata": {},
   "outputs": [],
   "source": []
  }
 ],
 "metadata": {
  "kernelspec": {
   "display_name": "Python 3 (ipykernel)",
   "language": "python",
   "name": "python3"
  },
  "language_info": {
   "codemirror_mode": {
    "name": "ipython",
    "version": 3
   },
   "file_extension": ".py",
   "mimetype": "text/x-python",
   "name": "python",
   "nbconvert_exporter": "python",
   "pygments_lexer": "ipython3",
   "version": "3.8.10"
  }
 },
 "nbformat": 4,
 "nbformat_minor": 5
}
